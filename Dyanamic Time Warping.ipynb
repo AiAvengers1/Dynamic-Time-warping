{
 "cells": [
  {
   "cell_type": "code",
   "execution_count": 3,
   "id": "564af25a",
   "metadata": {},
   "outputs": [
    {
     "name": "stdout",
     "output_type": "stream",
     "text": [
      "DTW Distance: 5.0\n",
      "Optimal Path: [(0, 0), (1, 1), (1, 2), (2, 3), (3, 4), (4, 5), (4, 6)]\n"
     ]
    }
   ],
   "source": [
    "from fastdtw import fastdtw\n",
    "import numpy as np\n",
    "\n",
    "# Two example time series\n",
    "time_series_a = np.array([1, 3, 4, 6, 9])\n",
    "time_series_b = np.array([0, 2, 3, 5, 6, 8, 10])\n",
    "\n",
    "# Compute the DTW distance using fastdtw\n",
    "distance, path = fastdtw(time_series_a, time_series_b)\n",
    "\n",
    "print(\"DTW Distance:\", distance)\n",
    "print(\"Optimal Path:\", path)\n"
   ]
  },
  {
   "cell_type": "code",
   "execution_count": 2,
   "id": "3468c819",
   "metadata": {},
   "outputs": [
    {
     "name": "stdout",
     "output_type": "stream",
     "text": [
      "DTW Distance: 5.0\n",
      "Cost Matrix:\n",
      "[[ 1.  2.  4.  8. 13. 20. 29.]\n",
      " [ 4.  2.  2.  4.  7. 12. 19.]\n",
      " [ 8.  4.  3.  3.  5.  9. 15.]\n",
      " [14.  8.  6.  4.  3.  5.  9.]\n",
      " [23. 15. 12.  8.  6.  4.  5.]]\n"
     ]
    }
   ],
   "source": [
    "import numpy as np\n",
    "\n",
    "def dtw_distance(x, y):\n",
    "    # Calculate the pairwise distance between elements of x and y using the Euclidean distance\n",
    "    distance_matrix = np.abs(np.subtract.outer(x, y))\n",
    "\n",
    "    # Initialize the cost matrix with zeros\n",
    "    cost_matrix = np.zeros((len(x), len(y)))\n",
    "\n",
    "    # Initialize the first row and first column of the cost matrix\n",
    "    cost_matrix[0, 0] = distance_matrix[0, 0]\n",
    "    for i in range(1, len(x)):\n",
    "        cost_matrix[i, 0] = cost_matrix[i - 1, 0] + distance_matrix[i, 0]\n",
    "    for j in range(1, len(y)):\n",
    "        cost_matrix[0, j] = cost_matrix[0, j - 1] + distance_matrix[0, j]\n",
    "\n",
    "    # Fill in the rest of the cost matrix using dynamic programming\n",
    "    for i in range(1, len(x)):\n",
    "        for j in range(1, len(y)):\n",
    "            cost_matrix[i, j] = distance_matrix[i, j] + min(cost_matrix[i - 1, j],\n",
    "                                                           cost_matrix[i, j - 1],\n",
    "                                                           cost_matrix[i - 1, j - 1])\n",
    "\n",
    "    # The DTW distance is the value in the bottom-right cell of the cost matrix\n",
    "    dtw_distance = cost_matrix[-1, -1]\n",
    "\n",
    "    return dtw_distance, cost_matrix\n",
    "\n",
    "# Two example time series\n",
    "time_series_a = np.array([1, 3, 4, 6, 9])\n",
    "time_series_b = np.array([0, 2, 3, 5, 6, 8, 10])\n",
    "\n",
    "# Compute the DTW distance using the custom implementation\n",
    "distance, cost_matrix = dtw_distance(time_series_a, time_series_b)\n",
    "\n",
    "print(\"DTW Distance:\", distance)\n",
    "print(\"Cost Matrix:\")\n",
    "print(cost_matrix)\n"
   ]
  },
  {
   "cell_type": "code",
   "execution_count": null,
   "id": "2807408b",
   "metadata": {},
   "outputs": [],
   "source": []
  }
 ],
 "metadata": {
  "kernelspec": {
   "display_name": "Python 3 (ipykernel)",
   "language": "python",
   "name": "python3"
  },
  "language_info": {
   "codemirror_mode": {
    "name": "ipython",
    "version": 3
   },
   "file_extension": ".py",
   "mimetype": "text/x-python",
   "name": "python",
   "nbconvert_exporter": "python",
   "pygments_lexer": "ipython3",
   "version": "3.11.3"
  }
 },
 "nbformat": 4,
 "nbformat_minor": 5
}
